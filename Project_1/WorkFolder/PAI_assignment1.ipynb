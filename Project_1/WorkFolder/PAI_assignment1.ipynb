{
  "nbformat": 4,
  "nbformat_minor": 0,
  "metadata": {
    "colab": {
      "name": "PAI_assignment1.ipynb",
      "provenance": [],
      "collapsed_sections": []
    },
    "kernelspec": {
      "name": "python3",
      "display_name": "Python 3"
    }
  },
  "cells": [
    {
      "cell_type": "code",
      "metadata": {
        "id": "1lmHOyxFnY0N",
        "outputId": "9300ab50-d3c2-4802-b28f-3e71b615f650",
        "colab": {
          "base_uri": "https://localhost:8080/",
          "height": 54
        }
      },
      "source": [
        "\"\"\"mounting google drive --> instructions:\n",
        "place your files onto your google drive folder of your choice, then run this cell\n",
        "you will be prompted to allow access to google colab\n",
        "now select the file path on the server, the file directory can be found on the left vertical\n",
        "taskbar. You can just navigate to the folder, right click and copy the directory of your .csv file\"\"\"\n",
        "\n",
        "from google.colab import drive\n",
        "drive.mount('/content/drive')"
      ],
      "execution_count": 31,
      "outputs": [
        {
          "output_type": "stream",
          "text": [
            "Drive already mounted at /content/drive; to attempt to forcibly remount, call drive.mount(\"/content/drive\", force_remount=True).\n"
          ],
          "name": "stdout"
        }
      ]
    },
    {
      "cell_type": "code",
      "metadata": {
        "id": "fJAWdns_eynP"
      },
      "source": [
        "import numpy as np\n",
        "from sklearn.linear_model import Ridge\n",
        "\n",
        "THRESHOLD = 0.5\n",
        "W1 = 1\n",
        "W2 = 20\n",
        "W3 = 100\n",
        "W4 = 0.01"
      ],
      "execution_count": 32,
      "outputs": []
    },
    {
      "cell_type": "code",
      "metadata": {
        "id": "fuGwoVdOfGKu"
      },
      "source": [
        "def cost_function(true, predicted):\n",
        "    \"\"\"\n",
        "        true: true values in 1D numpy array\n",
        "        predicted: predicted values in 1D numpy array\n",
        "\n",
        "        return: float\n",
        "    \"\"\"\n",
        "    cost = (true - predicted) ** 2\n",
        "\n",
        "    # true above threshold (case 1)\n",
        "    mask = true > THRESHOLD\n",
        "    mask_w1 = np.logical_and(predicted > true, mask)\n",
        "    mask_w2 = np.logical_and(np.logical_and(predicted < true, predicted > THRESHOLD), mask)\n",
        "    mask_w3 = np.logical_and(predicted < THRESHOLD, mask)\n",
        "\n",
        "    cost[mask_w1] = cost[mask_w1] * W1\n",
        "    cost[mask_w2] = cost[mask_w2] * W2\n",
        "    cost[mask_w3] = cost[mask_w3] * W3\n",
        "\n",
        "    # true value below threshold (case 2)\n",
        "    mask = true <= THRESHOLD\n",
        "    mask_w1 = np.logical_and(predicted > true, mask)\n",
        "    mask_w2 = np.logical_and(predicted < true, mask)\n",
        "\n",
        "    cost[mask_w1] = cost[mask_w1] * W1\n",
        "    cost[mask_w2] = cost[mask_w2] * W2\n",
        "\n",
        "    # reward for correctly identified safe regions\n",
        "    reward = W4 * np.logical_and(predicted <= THRESHOLD, true <= THRESHOLD)\n",
        "\n",
        "    return np.mean(cost) - np.mean(reward)"
      ],
      "execution_count": 33,
      "outputs": []
    },
    {
      "cell_type": "markdown",
      "metadata": {
        "id": "x5uG6VEHfbV8"
      },
      "source": [
        "Fill in the methods of the Model. Please do not change the given methods for the checker script to work.\n",
        "You can add new methods, and make changes. The checker script performs:\n",
        "\n",
        "\n",
        "    M = Model()\n",
        "    M.fit_model(train_x,train_y)\n",
        "    prediction = M.predict(test_x)\n",
        "\n",
        "It uses predictions to compare to the ground truth using the cost_function above.\n",
        "\n",
        "importing k-fold validation and doing training on the k-fold to not overfit\n",
        "then evaluate best lambda value from validation?"
      ]
    },
    {
      "cell_type": "code",
      "metadata": {
        "id": "Nxa5xPMxfNBs"
      },
      "source": [
        "class Model():\n",
        "\n",
        "    def __init__(self):\n",
        "        \"\"\"\n",
        "            TODO: enter your code here\n",
        "        \"\"\"\n",
        "        self.lamda = 1\n",
        "        self.model = None\n",
        "\n",
        "    def predict(self, test_x):\n",
        "        \"\"\"\n",
        "            TODO: enter your code here\n",
        "        \"\"\"\n",
        "        ## dummy code below \n",
        "        # y = np.ones(test_x.shape[0]) * THRESHOLD - 0.00001\n",
        "        y = self.model.predict(test_x)\n",
        "\n",
        "        return y\n",
        "\n",
        "    def fit_model(self, train_x, train_y):\n",
        "        \"\"\"\n",
        "             TODO: enter your code here\n",
        "        \"\"\"\n",
        "\n",
        "        clf = Ridge(alpha=self.lamda,solver='cholesky')\n",
        "        self.model = clf.fit(train_x, train_y)\n",
        "\n",
        "        pass"
      ],
      "execution_count": 34,
      "outputs": []
    },
    {
      "cell_type": "code",
      "metadata": {
        "id": "YLOBIw8FfP-L",
        "outputId": "364bbe82-004f-4ac8-d31a-7220501fbb60",
        "colab": {
          "base_uri": "https://localhost:8080/",
          "height": 606
        }
      },
      "source": [
        "def main():\n",
        "    # train_x_name = \"train_x.csv\"\n",
        "    # train_y_name = \"train_y.csv\"\n",
        "\n",
        "    # google drive directories for work in google colab - comment if working in .py file and uncomment original paths\n",
        "    train_x_name = \"/content/drive/My Drive/ETHZ/ProbabilisticAI/Projects/Project1/train_x.csv\"\n",
        "    train_y_name = \"/content/drive/My Drive/ETHZ/ProbabilisticAI/Projects/Project1/train_y.csv\"\n",
        "    test_x_name = \"/content/drive/My Drive/ETHZ/ProbabilisticAI/Projects/Project1/test_x.csv\"\n",
        "\n",
        "    train_x = np.loadtxt(train_x_name, delimiter=',')\n",
        "    train_y = np.loadtxt(train_y_name, delimiter=',')\n",
        "\n",
        "    # load the test dateset\n",
        "    # test_x_name = \"test_x.csv\"\n",
        "    test_x = np.loadtxt(test_x_name, delimiter=',')\n",
        "\n",
        "    M = Model()\n",
        "    M.fit_model(train_x, train_y)\n",
        "    prediction = M.predict(test_x)\n",
        "\n",
        "if __name__ == \"__main__\":\n",
        "    main()"
      ],
      "execution_count": 42,
      "outputs": [
        {
          "output_type": "stream",
          "text": [
            "[0.17529898 0.34333855 0.20163586 0.29759812 0.24149302 0.26502248\n",
            " 0.19184703 0.23794113 0.29325368 0.24896139 0.26458723 0.31950169\n",
            " 0.34346822 0.28500005 0.27862799 0.32937757 0.24061707 0.22613378\n",
            " 0.26630199 0.25426701 0.24263377 0.17582491 0.23683936 0.21068203\n",
            " 0.21809869 0.31059064 0.38021055 0.21607835 0.2831946  0.25760401\n",
            " 0.22358569 0.26647609 0.1800823  0.30453327 0.25159653 0.31019437\n",
            " 0.25905034 0.30760366 0.22191719 0.37331802 0.27529099 0.31453881\n",
            " 0.16950457 0.22293009 0.2770112  0.29232783 0.2174857  0.21502647\n",
            " 0.21818574 0.32116655 0.17310272 0.27758158 0.20848578 0.26524284\n",
            " 0.28056674 0.29912785 0.24689116 0.33947198 0.20141551 0.30988333\n",
            " 0.17301567 0.34219599 0.20251545 0.25365039 0.31488883 0.18196934\n",
            " 0.28055946 0.2560262  0.22972829 0.29131857 0.16932865 0.26107431\n",
            " 0.33464422 0.36405513 0.29843146 0.23741701 0.29557414 0.21397096\n",
            " 0.30646655 0.3588311  0.25874657 0.20932094 0.29913331 0.2184487\n",
            " 0.2752094  0.28767053 0.24536142 0.25119298 0.27336498 0.23526519\n",
            " 0.26225403 0.21428018 0.33271457 0.30430927 0.21783208 0.35110522\n",
            " 0.24215408 0.28797793 0.26037428 0.19755439]\n"
          ],
          "name": "stdout"
        },
        {
          "output_type": "error",
          "ename": "TypeError",
          "evalue": "ignored",
          "traceback": [
            "\u001b[0;31m---------------------------------------------------------------------------\u001b[0m",
            "\u001b[0;31mTypeError\u001b[0m                                 Traceback (most recent call last)",
            "\u001b[0;32m<ipython-input-42-ec60efc2758e>\u001b[0m in \u001b[0;36m<module>\u001b[0;34m()\u001b[0m\n\u001b[1;32m     25\u001b[0m \u001b[0;34m\u001b[0m\u001b[0m\n\u001b[1;32m     26\u001b[0m \u001b[0;32mif\u001b[0m \u001b[0m__name__\u001b[0m \u001b[0;34m==\u001b[0m \u001b[0;34m\"__main__\"\u001b[0m\u001b[0;34m:\u001b[0m\u001b[0;34m\u001b[0m\u001b[0;34m\u001b[0m\u001b[0m\n\u001b[0;32m---> 27\u001b[0;31m     \u001b[0mmain\u001b[0m\u001b[0;34m(\u001b[0m\u001b[0;34m)\u001b[0m\u001b[0;34m\u001b[0m\u001b[0;34m\u001b[0m\u001b[0m\n\u001b[0m",
            "\u001b[0;32m<ipython-input-42-ec60efc2758e>\u001b[0m in \u001b[0;36mmain\u001b[0;34m()\u001b[0m\n\u001b[1;32m     21\u001b[0m     \u001b[0mprint\u001b[0m\u001b[0;34m(\u001b[0m\u001b[0mprediction\u001b[0m\u001b[0;34m)\u001b[0m\u001b[0;34m\u001b[0m\u001b[0;34m\u001b[0m\u001b[0m\n\u001b[1;32m     22\u001b[0m \u001b[0;34m\u001b[0m\u001b[0m\n\u001b[0;32m---> 23\u001b[0;31m     \u001b[0mprint\u001b[0m\u001b[0;34m(\u001b[0m\u001b[0mprediction\u001b[0m\u001b[0;34m.\u001b[0m\u001b[0mshape\u001b[0m\u001b[0;34m(\u001b[0m\u001b[0;34m)\u001b[0m\u001b[0;34m)\u001b[0m\u001b[0;34m\u001b[0m\u001b[0;34m\u001b[0m\u001b[0m\n\u001b[0m\u001b[1;32m     24\u001b[0m \u001b[0;34m\u001b[0m\u001b[0m\n\u001b[1;32m     25\u001b[0m \u001b[0;34m\u001b[0m\u001b[0m\n",
            "\u001b[0;31mTypeError\u001b[0m: 'tuple' object is not callable"
          ]
        }
      ]
    },
    {
      "cell_type": "code",
      "metadata": {
        "id": "4WuupiJbqb4O",
        "outputId": "028f2a32-97dd-4d7e-d529-7e0cba661582",
        "colab": {
          "base_uri": "https://localhost:8080/",
          "height": 164
        }
      },
      "source": [
        "prediction.shape()"
      ],
      "execution_count": 39,
      "outputs": [
        {
          "output_type": "error",
          "ename": "NameError",
          "evalue": "ignored",
          "traceback": [
            "\u001b[0;31m---------------------------------------------------------------------------\u001b[0m",
            "\u001b[0;31mNameError\u001b[0m                                 Traceback (most recent call last)",
            "\u001b[0;32m<ipython-input-39-5f32da14692f>\u001b[0m in \u001b[0;36m<module>\u001b[0;34m()\u001b[0m\n\u001b[0;32m----> 1\u001b[0;31m \u001b[0mprediction\u001b[0m\u001b[0;34m.\u001b[0m\u001b[0mshape\u001b[0m\u001b[0;34m(\u001b[0m\u001b[0;34m)\u001b[0m\u001b[0;34m\u001b[0m\u001b[0;34m\u001b[0m\u001b[0m\n\u001b[0m",
            "\u001b[0;31mNameError\u001b[0m: name 'prediction' is not defined"
          ]
        }
      ]
    },
    {
      "cell_type": "code",
      "metadata": {
        "id": "zw_k4Ensqfoo"
      },
      "source": [
        ""
      ],
      "execution_count": null,
      "outputs": []
    }
  ]
}